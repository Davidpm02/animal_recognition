{
 "cells": [
  {
   "cell_type": "markdown",
   "id": "f5f06742",
   "metadata": {},
   "source": [
    "Este cuaderno va a estar dedicado de manera exclusiva a la generacion de una practica conocida como \"Data Augmentation\".\n",
    "\n",
    "Esta practica permite generar nuevos datos para entrenar a partir de unos nuevos. Como disponemos de imagenes para el entrenamiento, utilizare una libreria de Keras para la generacion de nuevas imagenes."
   ]
  },
  {
   "cell_type": "markdown",
   "id": "6b5e938b",
   "metadata": {},
   "source": [
    "El objetivo primordial de este proceso es lograr obtener un numero similar (o identico) de ejemplos para cada uno de las\n",
    "etiquetas que el modelo debera aprender a clasificar."
   ]
  },
  {
   "cell_type": "code",
   "execution_count": null,
   "id": "03a07917",
   "metadata": {},
   "outputs": [],
   "source": [
    "# Para empezar,reviso los ejemplos que tengo para cada una de las etiquetas\n",
    "\n",
    "import os\n",
    "\n",
    "directorioImagenes = 'datasets_animales/'\n",
    "\n",
    "for carpeta in os.listdir(directorioImagenes):\n",
    "    print('Existen un total de {} imagenes para la especie {}.'.format(len(os.listdir(os.path.join(directorioImagenes, carpeta))),\n",
    "                                                                       carpeta))"
   ]
  },
  {
   "cell_type": "code",
   "execution_count": null,
   "id": "4371ce95",
   "metadata": {},
   "outputs": [],
   "source": [
    "# Teniendo en cuenta que la etiqueta que mas ejemplos tiene es la de dog (perro), me basare en este numero para crear]\n",
    "# nuevas copias del resto.\n",
    "\n",
    "LIMITE_SUPERIOR = len(os.listdir(os.path.join(directorioImagenes, 'dog')))\n",
    "\n",
    "def asignarImagenesEspecie():\n",
    "    \n",
    "    \"\"\"Funcion sin parametros que se crear un diccionario cuyos pares clave-valor tienen la siguiente estructura\n",
    "       ==> especieAnimal: nImagenesFaltantes_limiteSuperior.\n",
    "       \n",
    "       Dicho diccionario es creado iterando sobre el contenido del directorio que contiene las imagenes, y finalmente\n",
    "       es devuelto por la funcion al entorno global del cuaderno.\"\"\"\n",
    "    \n",
    "    dictImagenesAnimales = {}\n",
    "    \n",
    "    for carpeta in os.listdir(directorioImagenes):\n",
    "        \n",
    "        if carpeta == 'dog':  # Como dog tiene el numero maximo de imagenes, no generamos imagenes para esta etiqueta.\n",
    "            continue\n",
    "        \n",
    "        dictImagenesAnimales[carpeta] = len(os.listdir(os.path.join(directorioImagenes, carpeta)))\n",
    "        \n",
    "        \n",
    "    return dictImagenesAnimales\n",
    "\n",
    "\n",
    "dictImagenesAnimales = asignarImagenesEspecie()"
   ]
  },
  {
   "cell_type": "code",
   "execution_count": null,
   "id": "74b8af70",
   "metadata": {},
   "outputs": [],
   "source": [
    "# Reviso las imagenes que necesitamos para cada una de las etiquetas\n",
    "\n",
    "for clave, valor in dictImagenesAnimales.items():\n",
    "    \n",
    "    print(clave, '==>', valor)"
   ]
  },
  {
   "cell_type": "code",
   "execution_count": null,
   "id": "634dd3fb",
   "metadata": {},
   "outputs": [],
   "source": [
    "# Para llevar a cobo el aumento de datos, hago uso de una clase del framework Keras.\n",
    "\n",
    "from keras.preprocessing.image import ImageDataGenerator\n",
    "from tqdm import tqdm\n",
    "import cv2\n",
    "import numpy as np\n",
    "from multiprocessing import Pool"
   ]
  },
  {
   "cell_type": "code",
   "execution_count": null,
   "id": "edd223cb",
   "metadata": {},
   "outputs": [],
   "source": [
    "# Como vemos, tenemos un numero diferente de ejemplos para cada etiqueta, lo que puede causar en el modelo una cierta tendencia\n",
    "# a clasificar falsos positivos. Tras el entrenamiento, representaremos el rendimiento del modelo en una matriz de confusion.\n",
    "\n",
    "# RECORDATORIO ==> Es importante instalar las dependencias incluidas en el documento requirements.txt .\n",
    "\n",
    "################################################################################################################################\n",
    "\n",
    "# Directorio de entrada y salida\n",
    "# directorioImagenes = 'datasets_animales/'\n",
    "output_directory = 'datasets_animales/'  \n",
    "\n",
    "# Creo un generador de data augmentation\n",
    "datagen = ImageDataGenerator(rotation_range= 30, horizontal_flip=True, fill_mode='nearest')\n",
    "\n",
    "\n",
    "# Recorrer cada imagen en el dataset original y obtener su ruta\n",
    "for carpeta in tqdm(os.listdir(directorioImagenes)):\n",
    "    \n",
    "    if carpeta in dictImagenesAnimales.keys():\n",
    "        \n",
    "        if len(os.listdir(os.path.join(directorioImagenes, carpeta))) >= LIMITE_SUPERIOR:\n",
    "            \n",
    "            print('La etiqueta {} ya dispone de la cantidad de ejemplos deseada'.format(carpeta))\n",
    "            continue\n",
    "        \n",
    "        else:\n",
    "        \n",
    "            imagenesNuevas = 0\n",
    "\n",
    "            for image_file in os.listdir(os.path.join(directorioImagenes, carpeta)):\n",
    "\n",
    "                if imagenesNuevas >= (LIMITE_SUPERIOR - dictImagenesAnimales[carpeta]):\n",
    "                    break\n",
    "                else:\n",
    "\n",
    "                    imagenesNuevas +=1 \n",
    "\n",
    "                    image = cv2.imread(os.path.join(directorioImagenes + carpeta + '/', image_file))\n",
    "\n",
    "                    # Verifica si la imagen se ha cargado correctamente\n",
    "                    if image is not None:\n",
    "                        # Agrega una dimensión al array de la imagen\n",
    "                        image = np.expand_dims(image, axis=0)\n",
    "                        # Genera imágenes aumentadas y guárdalas en el directorio de salida\n",
    "                        i = 0\n",
    "                        for batch in datagen.flow(image, batch_size=1, save_to_dir=output_directory + carpeta + '/', save_format='jpg'):\n",
    "                            i += 1\n",
    "                            if i == 1:\n",
    "                                break\n",
    "                    else:\n",
    "                        print('Error al cargar la imagen: {}'.format(image_file))\n",
    "\n",
    "            print('Se han generado {} nuevas imagenes para la etiqueta {}'.format(imagenesNuevas, carpeta))\n",
    "\n",
    "print('Data augmentation completada.')\n",
    "print('Las imágenes generadas han sido alojadas en el directorio {}.'.format(output_directory))"
   ]
  },
  {
   "cell_type": "code",
   "execution_count": null,
   "id": "df998b53",
   "metadata": {},
   "outputs": [],
   "source": [
    "# Aparentemente, hemos finalizado el proceso de generacion de imagenes (seria buen idea almacenar unas pocas en una carpeta \n",
    "# y compararlas con las originales.)\n",
    "\n",
    "# Voy a mostrar el numero de elementos dentro de cada uno de los subdirectorios correspondientes a cada etiqueta.\n",
    "\n",
    "for carpeta in os.listdir(directorioImagenes):\n",
    "    \n",
    "    print('Existen {} ejemplos para la etiqueta \"{}\".'.format(len(os.listdir(os.path.join(directorioImagenes, carpeta))), \n",
    "                                                              carpeta))"
   ]
  },
  {
   "cell_type": "code",
   "execution_count": null,
   "id": "b7b78c2e",
   "metadata": {},
   "outputs": [],
   "source": [
    "# Al revisar, veo que me he pasado generando las imagenes, por lo que voy a eliminar ejemplos de todas las etiquetas\n",
    "# que tengan una cantidad de ejemplos superior al valor de la constante 'LIMITE_SUPERIOR'.\n",
    "\n",
    "\n",
    "for carpeta in os.listdir(directorioImagenes):\n",
    "\n",
    "    numero_imagenes_a_eliminar = len(os.listdir(os.path.join(directorioImagenes, carpeta))) - LIMITE_SUPERIOR\n",
    "    imagenesEliminadas = 0\n",
    "    print('Se va a proceder a eliminar {} imagenes correspondientes a la etiqueta {}.'.format(numero_imagenes_a_eliminar, \n",
    "                                                                                              carpeta))\n",
    "\n",
    "    # Lista de ejemplos en el subdirectorio de la etiqueta iterada\n",
    "    archivos = os.listdir(os.path.join(directorioImagenes, carpeta))\n",
    "\n",
    "    # Si hay suficientes imágenes en el directorio\n",
    "    if len(archivos) > numero_imagenes_a_eliminar:\n",
    "        # Ordena la lista de archivos por fecha de modificación (más recientes primero)\n",
    "        archivos.sort(key=lambda x: os.path.getmtime(os.path.join(directorioImagenes + carpeta + '/', x)), reverse=True)\n",
    "\n",
    "        # Elimina las últimas 'numero_imagenes_a_eliminar' imágenes\n",
    "        for i in tqdm(range(numero_imagenes_a_eliminar)):\n",
    "            archivo_a_eliminar = archivos[i]\n",
    "            ruta_completa = os.path.join(directorioImagenes + carpeta + '/', archivo_a_eliminar)\n",
    "            try:\n",
    "                os.remove(ruta_completa)\n",
    "                imagenesEliminadas +=1\n",
    "                #print(f'Imagen eliminada: {archivo_a_eliminar}')\n",
    "            except Exception as e:\n",
    "                print(f'Error al eliminar la imagen {archivo_a_eliminar}: {e}')\n",
    "        print('Se han eliminado correctamente {} imagenes para la etiqueta {}.'.format(imagenesEliminadas, carpeta))\n",
    "    else:\n",
    "        print('No hay suficientes imágenes en el directorio para eliminar.')"
   ]
  },
  {
   "cell_type": "code",
   "execution_count": null,
   "id": "d363dd19",
   "metadata": {},
   "outputs": [],
   "source": [
    "# Tras esto, reviso la cantidad de ejemplos de los que dispongo finalmente para cada imagen.\n",
    "\n",
    "for carpeta in os.listdir(directorioImagenes):\n",
    "    \n",
    "    print('Existen {} ejemplos para la etiqueta {}.'.format(len(os.listdir(os.path.join(directorioImagenes, carpeta))),\n",
    "                                                            carpeta))"
   ]
  }
 ],
 "metadata": {
  "kernelspec": {
   "display_name": "Python 3 (ipykernel)",
   "language": "python",
   "name": "python3"
  },
  "language_info": {
   "codemirror_mode": {
    "name": "ipython",
    "version": 3
   },
   "file_extension": ".py",
   "mimetype": "text/x-python",
   "name": "python",
   "nbconvert_exporter": "python",
   "pygments_lexer": "ipython3",
   "version": "3.10.13"
  }
 },
 "nbformat": 4,
 "nbformat_minor": 5
}
